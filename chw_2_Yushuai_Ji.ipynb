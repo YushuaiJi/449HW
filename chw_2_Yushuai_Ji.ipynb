{
  "nbformat": 4,
  "nbformat_minor": 0,
  "metadata": {
    "kernelspec": {
      "display_name": "Python 3.8.3 64-bit ('base': conda)",
      "language": "python",
      "name": "python38364bitbaseconda97cd5720aa194725b86ca3d3cdd6281a"
    },
    "language_info": {
      "codemirror_mode": {
        "name": "ipython",
        "version": 3
      },
      "file_extension": ".py",
      "mimetype": "text/x-python",
      "name": "python",
      "nbconvert_exporter": "python",
      "pygments_lexer": "ipython3",
      "version": "3.8.3-final"
    },
    "colab": {
      "name": "chw-2_Yushuai Ji.ipynb",
      "provenance": [],
      "include_colab_link": true
    }
  },
  "cells": [
    {
      "cell_type": "markdown",
      "metadata": {
        "id": "view-in-github",
        "colab_type": "text"
      },
      "source": [
        "<a href=\"https://colab.research.google.com/github/YushuaiJi/449HW/blob/master/chw_2_Yushuai_Ji.ipynb\" target=\"_parent\"><img src=\"https://colab.research.google.com/assets/colab-badge.svg\" alt=\"Open In Colab\"/></a>"
      ]
    },
    {
      "cell_type": "markdown",
      "metadata": {
        "id": "zY85ZFvz4kbY"
      },
      "source": [
        "<a href=\"https://colab.research.google.com/github/scaomath/wustl-math450/blob/main/Homework/chw-2_YOUR_NAME.ipynb\" target=\"_parent\"><img src=\"https://colab.research.google.com/assets/colab-badge.svg\" alt=\"Open In Colab\"/></a>"
      ]
    },
    {
      "cell_type": "code",
      "metadata": {
        "id": "ruS2qBOWTWhz"
      },
      "source": [
        ""
      ],
      "execution_count": null,
      "outputs": []
    },
    {
      "cell_type": "code",
      "metadata": {
        "id": "CwzqnPzK4kbd"
      },
      "source": [
        "# Run Me First\n",
        "import numpy as np\n",
        "import torch"
      ],
      "execution_count": null,
      "outputs": []
    },
    {
      "cell_type": "markdown",
      "metadata": {
        "id": "koC3KDVn4kbd"
      },
      "source": [
        "## Dataset\n",
        "\n",
        "\n",
        "\"MNIST (\"Modified National Institute of Standards and Technology\") is the de facto “hello world” dataset of computer vision. Since its release in 1999, this classic dataset of handwritten images has served as the basis for benchmarking classification algorithms. As new machine learning techniques emerge, MNIST remains a reliable resource for researchers and learners alike.\"\n",
        "\n",
        "In the following cells, we will learn how to load and view this dataset for our toy models. \n",
        "\n",
        "Read more:[https://www.kaggle.com/c/digit-recognizer](https://www.kaggle.com/c/digit-recognizer)\n",
        "\n",
        "\n",
        "<a title=\"By Josef Steppan [CC BY-SA 4.0 (https://creativecommons.org/licenses/by-sa/4.0)], from Wikimedia Commons\" href=\"https://commons.wikimedia.org/wiki/File:MnistExamples.png\"><img width=\"512\" alt=\"MnistExamples\" src=\"https://upload.wikimedia.org/wikipedia/commons/2/27/MnistExamples.png\"/></a>\n",
        "\n",
        "\n",
        "---- \n",
        "This code is adopted from the pytorch examples repository. \n",
        "It is licensed under BSD 3-Clause \"New\" or \"Revised\" License.\n",
        "Source: https://github.com/pytorch/examples/\n",
        "LICENSE: https://github.com/pytorch/examples/blob/master/LICENSE"
      ]
    },
    {
      "cell_type": "code",
      "metadata": {
        "id": "OFe7wltS4kbd"
      },
      "source": [
        "# import torchvision \n",
        "from __future__ import print_function\n",
        "from torchvision import datasets, transforms\n",
        "from torch.utils.data import DataLoader\n",
        "from torchvision.utils import make_grid\n"
      ],
      "execution_count": null,
      "outputs": []
    },
    {
      "cell_type": "code",
      "metadata": {
        "id": "bNrSTV7K4kbe"
      },
      "source": [
        "# import packages that help us plot\n",
        "import matplotlib.pyplot as plt\n",
        "import seaborn as sns\n",
        "sns.set_style(\"dark\")"
      ],
      "execution_count": null,
      "outputs": []
    },
    {
      "cell_type": "code",
      "metadata": {
        "id": "MRDU0HOd4kbe"
      },
      "source": [
        "# download the data\n",
        "train = datasets.MNIST('../data', train=True, download=True, transform = transforms.ToTensor())"
      ],
      "execution_count": null,
      "outputs": []
    },
    {
      "cell_type": "code",
      "metadata": {
        "id": "vYkPwfOd4kbe"
      },
      "source": [
        "# put the data into a loader, every iteration 1 sample is loaded\n",
        "train_loader = DataLoader(train, batch_size=1, shuffle=True, num_workers=2,)"
      ],
      "execution_count": null,
      "outputs": []
    },
    {
      "cell_type": "code",
      "metadata": {
        "id": "rdGUn5Nj4kbe"
      },
      "source": [
        "data_iter = iter(train_loader) # set the loader to be an iterator\n",
        "images, labels = next(data_iter) # next returns the next item in an iterator"
      ],
      "execution_count": null,
      "outputs": []
    },
    {
      "cell_type": "markdown",
      "metadata": {
        "id": "7fezdGsg4kbe"
      },
      "source": [
        "`image` is now a `28x28` matrix, with entries varying between 0 and 1. Once being plotted by `imshow` function as a `28x28` image, each pixel's brightness is decided by the matrix's entry value. Here axes are used but we can always just call `plt.imshow` instead."
      ]
    },
    {
      "cell_type": "code",
      "metadata": {
        "colab": {
          "base_uri": "https://localhost:8080/",
          "height": 290
        },
        "id": "vHYW4ZrR4kbf",
        "outputId": "1c1fe97b-88c0-4a6e-c2ff-b73fd605d979"
      },
      "source": [
        "image = images[0].squeeze()\n",
        "label = labels.squeeze()\n",
        "_, ax = plt.subplots(1)\n",
        "ax.imshow(image, cmap='gray'); \n",
        "ax.set_title(f'Label: {label}', color= 'black', fontsize=25);"
      ],
      "execution_count": null,
      "outputs": [
        {
          "output_type": "display_data",
          "data": {
            "image/png": "[encoded data removed]",
            "text/plain": [
              "<Figure size 432x288 with 1 Axes>"
            ]
          },
          "metadata": {
            "tags": []
          }
        }
      ]
    },
    {
      "cell_type": "markdown",
      "metadata": {
        "id": "nzm5N9GD4kbf"
      },
      "source": [
        "## Data manipulation in higher dimensions\n",
        "\n",
        "Load more images with label 8. "
      ]
    },
    {
      "cell_type": "code",
      "metadata": {
        "colab": {
          "base_uri": "https://localhost:8080/"
        },
        "id": "jZLIcBZD4kbf",
        "outputId": "546dc7c1-3b20-45af-febb-bcea644cf12f"
      },
      "source": [
        "idx = (train.train_labels==8)\n",
        "labels_new = train.train_labels[idx]\n",
        "data = train.train_data[idx]/255"
      ],
      "execution_count": null,
      "outputs": [
        {
          "output_type": "stream",
          "text": [
            "/usr/local/lib/python3.6/dist-packages/torchvision/datasets/mnist.py:48: UserWarning: train_labels has been renamed targets\n",
            "  warnings.warn(\"train_labels has been renamed targets\")\n",
            "/usr/local/lib/python3.6/dist-packages/torchvision/datasets/mnist.py:58: UserWarning: train_data has been renamed data\n",
            "  warnings.warn(\"train_data has been renamed data\")\n"
          ],
          "name": "stderr"
        }
      ]
    },
    {
      "cell_type": "markdown",
      "metadata": {
        "id": "IP6PiTZ-4kbf"
      },
      "source": [
        "Now we randomly pick 10 of them using `numpy.random.choice` function, notice the shape of the data should be `(10, 28, 28)` whereas the dimension 0 (axis 0) represents the indices of the image."
      ]
    },
    {
      "cell_type": "code",
      "metadata": {
        "colab": {
          "base_uri": "https://localhost:8080/"
        },
        "id": "wSSERqNc4kbf",
        "outputId": "af2f3dfd-eef3-4775-a812-e13d50bb02d8"
      },
      "source": [
        "n_data_all = len(data)\n",
        "idx = np.random.choice(range(n_data_all), size=10)\n",
        "data_new = data[idx]\n",
        "data_new = torch.tensor(data_new, dtype=torch.float)\n",
        "print(data_new.shape)"
      ],
      "execution_count": null,
      "outputs": [
        {
          "output_type": "stream",
          "text": [
            "torch.Size([10, 28, 28])\n"
          ],
          "name": "stdout"
        },
        {
          "output_type": "stream",
          "text": [
            "/usr/local/lib/python3.6/dist-packages/ipykernel_launcher.py:4: UserWarning: To copy construct from a tensor, it is recommended to use sourceTensor.clone().detach() or sourceTensor.clone().detach().requires_grad_(True), rather than torch.tensor(sourceTensor).\n",
            "  after removing the cwd from sys.path.\n"
          ],
          "name": "stderr"
        }
      ]
    },
    {
      "cell_type": "code",
      "metadata": {
        "colab": {
          "base_uri": "https://localhost:8080/",
          "height": 265
        },
        "id": "LNcIDhoz4kbf",
        "outputId": "7a92610f-eef2-49ec-e347-21b64b809939"
      },
      "source": [
        "plt.imshow(data_new[0,:,:], cmap='gray'); # plot the first sample"
      ],
      "execution_count": null,
      "outputs": [
        {
          "output_type": "display_data",
          "data": {
            "image/png": "[encoded data removed]",
            "text/plain": [
              "<Figure size 432x288 with 1 Axes>"
            ]
          },
          "metadata": {
            "tags": []
          }
        }
      ]
    },
    {
      "cell_type": "markdown",
      "metadata": {
        "id": "foQ0rGBN4kbg"
      },
      "source": [
        "## Problem 1\n",
        "\n",
        "For `data_new`, get a smoothened 8 image `average_8` by averaging axis 0, use a single line of code to achieve the result of the following `for` loop:\n",
        "\n",
        "```python\n",
        "n_sample = len(data_new)\n",
        "average_8 = torch.zeros_like(data_new[0], dtype=torch.float)\n",
        "for i in range(n_sample):\n",
        "    average_8 += data_new[i,:,:]/n_sample\n",
        "\n",
        "```"
      ]
    },
    {
      "cell_type": "code",
      "metadata": {
        "colab": {
          "base_uri": "https://localhost:8080/",
          "height": 265
        },
        "id": "UhLE6d6h4kbg",
        "outputId": "fc708e27-20b2-41d4-c364-72f68a504905"
      },
      "source": [
        "average_8 = torch.mean(data_new, 0,False)  # Replace this with your code      # Replace this with your code\n",
        "\n",
        "try:\n",
        "    plt.imshow(average_8, cmap='gray'); # this should look like a smoothened 8\n",
        "except TypeError:\n",
        "    print(\"Please get an averaged tensor first.\")"
      ],
      "execution_count": null,
      "outputs": [
        {
          "output_type": "display_data",
          "data": {
            "image/png": "[encoded data removed]",
            "text/plain": [
              "<Figure size 432x288 with 1 Axes>"
            ]
          },
          "metadata": {
            "tags": []
          }
        }
      ]
    },
    {
      "cell_type": "markdown",
      "metadata": {
        "id": "_GclWe8h4kbg"
      },
      "source": [
        "## `torch.nn.Linear`\n",
        "\n",
        "We know that the layer `Linear` is essentially applying a linear transform to every sample in the data. In the following example, a linear layer is initialized with no bias, transforms a flattened `28x28` matrix to a long vector of `14*14`, then reshape this vector back to `14x14` matrix.\n",
        "\n",
        "If we plot this matrix, we will find that nothing is discernible anymore. This is the nature of the neural network, transforms \"low-level\" concrete features to more abstracted features. Even after being trained, nn retains this black-box nature."
      ]
    },
    {
      "cell_type": "code",
      "metadata": {
        "id": "KxQCS9Rm4kbg"
      },
      "source": [
        "import torch.nn as nn"
      ],
      "execution_count": null,
      "outputs": []
    },
    {
      "cell_type": "code",
      "metadata": {
        "colab": {
          "base_uri": "https://localhost:8080/",
          "height": 265
        },
        "id": "QQDEUAnc4kbg",
        "outputId": "7e1e909b-6cc1-4b59-c9ad-4a1dc6e3173a"
      },
      "source": [
        "layer1 = nn.Linear(28*28, 14*14, bias=False)\n",
        "x0 = data_new[0].flatten() # flatten (28, 28) matrix to a (784, ) vector\n",
        "x1 = layer1(x0) # apply the linear transform\n",
        "image = x1.view(14,14).detach().numpy() # reshape (196, ) vector to (14,14)\n",
        "plt.imshow(image, cmap='gray'); "
      ],
      "execution_count": null,
      "outputs": [
        {
          "output_type": "display_data",
          "data": {
            "image/png": "[encoded data removed]",
            "text/plain": [
              "<Figure size 432x288 with 1 Axes>"
            ]
          },
          "metadata": {
            "tags": []
          }
        }
      ]
    },
    {
      "cell_type": "markdown",
      "metadata": {
        "id": "21gFqIAD4kbg"
      },
      "source": [
        "Notice that `torch` layer can handle data in batch."
      ]
    },
    {
      "cell_type": "code",
      "metadata": {
        "colab": {
          "base_uri": "https://localhost:8080/"
        },
        "id": "N0abc8294kbh",
        "outputId": "f9e691de-8e43-4145-e3ca-e5b26c9f13d6"
      },
      "source": [
        "n_samples = len(data_new)\n",
        "X0 = data_new.view(n_samples, -1) \n",
        "X1 = layer1(X0)\n",
        "X2 = X1.view(-1,14,14) # -1 detects the batch size automatically\n",
        "print(X2.size())"
      ],
      "execution_count": null,
      "outputs": [
        {
          "output_type": "stream",
          "text": [
            "torch.Size([10, 14, 14])\n"
          ],
          "name": "stdout"
        }
      ]
    },
    {
      "cell_type": "markdown",
      "metadata": {
        "id": "aful10Ij4kbh"
      },
      "source": [
        "## Problem 2\n",
        "Implement in the following cell `nn.Linear` from scratch using `torch.mm` on `data_new` of a linear layer with out bias to achieve the result of the following `for` loop. The following `for` loop can be modified to three lines of code with a reshape using `view` function, a matrix-matrix multiplication, reshape using `view` again.\n",
        "\n",
        "```python\n",
        "W0 = torch.randn(28*28, 14*14)#\n",
        "n_samples = len(data_new)#10\n",
        "X0 = data_new#10*28*28\n",
        "X1 = torch.zeros(n_samples, 14*14, 1)#10 14*14 1\n",
        "for i in range(n_samples):\n",
        "    sample = X0[i,:,:].view(-1,1)\n",
        "    X1[i,:] = W0.T.mm(sample)\n",
        "X2 = X1.view(-1,14,14)\n",
        "\n",
        "```"
      ]
    },
    {
      "cell_type": "code",
      "metadata": {
        "colab": {
          "base_uri": "https://localhost:8080/"
        },
        "id": "3s-KM1uW6fCt",
        "outputId": "d54b75bf-b59f-475d-90fd-6cb2ac9051f0"
      },
      "source": [
        "tmp = X0.view(10,28*28)\r\n",
        "res = tmp.mm(W0)\r\n",
        "ans = res.view(-1,14,14)\r\n",
        "ans.shape\r\n",
        "\r\n",
        "\r\n",
        "#(X0.view(10,28*28).mm(W0)).view(-1,14,14)"
      ],
      "execution_count": null,
      "outputs": [
        {
          "output_type": "execute_result",
          "data": {
            "text/plain": [
              "torch.Size([10, 14, 14])"
            ]
          },
          "metadata": {
            "tags": []
          },
          "execution_count": 108
        }
      ]
    },
    {
      "cell_type": "code",
      "metadata": {
        "colab": {
          "base_uri": "https://localhost:8080/"
        },
        "id": "Cm3EvL6k4kbh",
        "outputId": "6082bc44-346f-44f2-ed6a-541c514371f3"
      },
      "source": [
        "# Replace this with your code\n",
        "# your code here\n",
        "X0 = data_new.view(10,28*28)\n",
        "X1 = X0.mm(torch.randn(28*28, 14*14))\n",
        "X2 = X1.view(-1,14,14)\n",
        "\n",
        "\n",
        "print(X2.size()) # should be (10, 14, 14)"
      ],
      "execution_count": null,
      "outputs": [
        {
          "output_type": "stream",
          "text": [
            "torch.Size([10, 14, 14])\n"
          ],
          "name": "stdout"
        }
      ]
    },
    {
      "cell_type": "markdown",
      "metadata": {
        "id": "NnGRdJON4kbh"
      },
      "source": [
        "## Downsampling, pooling, and padding\n",
        "\n",
        "###  Examples\n",
        "In practice of computer vision, an image is sometimes downsampled to reduce the dimension and the size of the neural network. We can do so by \"pooling\": for example, for an `28x28` image, we can \"pool\" it by taking the maximum of a `2x2` block to downsample an image from `28x28` to `14x14`.\n",
        "\n",
        "An example can be viewed as follows:\n",
        "\n",
        "<img width=\"512\" alt=\"MnistExamples\" src=\"https://sites.wustl.edu/scao/files/2021/02/MaxpoolSample2.png\"/></a>\n",
        "\n",
        "\"Padding\" is the operation of adding zeros on the outer rims of a matrix to make it bigger, it is useful in neural network to keep the size consistent. For example for the folllowing `2x2` matrix:\n",
        "```\n",
        "tensor ([[1 , 2],\n",
        "         [3, 4]])\n",
        "\n",
        "```\n",
        "We can pad this matrix by zeros with a padding size 2 as follows:\n",
        "```\n",
        "tensor([[ 0,  0,  0,  0,  0,  0],\n",
        "        [ 0,  0,  0,  0,  0,  0],\n",
        "        [ 0,  0,  1,  2,  0,  0],\n",
        "        [ 0,  0,  3,  4,  0,  0],\n",
        "        [ 0,  0,  0,  0,  0,  0],\n",
        "        [ 0,  0,  0,  0,  0,  0]])\n",
        "```\n",
        "\n"
      ]
    },
    {
      "cell_type": "code",
      "metadata": {
        "colab": {
          "base_uri": "https://localhost:8080/",
          "height": 282
        },
        "id": "n9bpfLIr4kbh",
        "outputId": "b0389972-7bfa-4524-a51c-251ae7060394"
      },
      "source": [
        " # pool of square window of size=2, stride=2 as shown in the image above\n",
        " # size: the size of the square pooling window\n",
        " # stride: how many entries does the pooling window moves each time, if the stride is 1, then there is overlapping for a size 2 pooling window\n",
        " layer2 = nn.MaxPool2d(2, stride=2) \n",
        " X0 = data_new\n",
        " X1 = layer2(X0)\n",
        " print(X1.size())\n",
        " plt.imshow(X1[1], cmap='gray'); "
      ],
      "execution_count": null,
      "outputs": [
        {
          "output_type": "stream",
          "text": [
            "torch.Size([10, 14, 14])\n"
          ],
          "name": "stdout"
        },
        {
          "output_type": "display_data",
          "data": {
            "image/png": "[encoded data removed]",
            "text/plain": [
              "<Figure size 432x288 with 1 Axes>"
            ]
          },
          "metadata": {
            "tags": []
          }
        }
      ]
    },
    {
      "cell_type": "code",
      "metadata": {
        "id": "U_C8DzXdFfaw"
      },
      "source": [
        ""
      ],
      "execution_count": null,
      "outputs": []
    },
    {
      "cell_type": "markdown",
      "metadata": {
        "id": "0bPvt_zl4kbi"
      },
      "source": [
        "## Problem 3\n",
        "\n",
        "Fill in the following cell implementation a vectorized function to perform a zero-padding on the max-pooled data with size `(10,14,14)`, and transform each sample in it back to `(10,28,28)` without `for` loop."
      ]
    },
    {
      "cell_type": "code",
      "metadata": {
        "colab": {
          "base_uri": "https://localhost:8080/",
          "height": 282
        },
        "id": "R0I9S6hu4kbi",
        "outputId": "f66d3541-6522-41c5-ab69-e8d06264aa73"
      },
      "source": [
        "# your code here\n",
        "pad = nn.ZeroPad2d(padding=(7, 7, 7, 7))\n",
        "X1_upsample = pad(X1)\n",
        "\n",
        "print(X1_upsample.size()) # (10, 28, 28)\n",
        "plt.imshow(X1_upsample[1], cmap='gray'); # should be an eight"
      ],
      "execution_count": null,
      "outputs": [
        {
          "output_type": "stream",
          "text": [
            "torch.Size([10, 28, 28])\n"
          ],
          "name": "stdout"
        },
        {
          "output_type": "display_data",
          "data": {
            "image/png": "[encoded data removed]",
            "text/plain": [
              "<Figure size 432x288 with 1 Axes>"
            ]
          },
          "metadata": {
            "tags": []
          }
        }
      ]
    },
    {
      "cell_type": "markdown",
      "metadata": {
        "id": "3MFTEwj44kbi"
      },
      "source": [
        "## `loss.backward()`\n",
        "\n",
        "The `backward()` operation on any tensor `w` initialized with `requires_grad=True` will compute the gradient of `w`, and we can retrieve its gradient by `w.grad`. For example in the following cell, the gradient of $W^{T}$ is computed for \n",
        "$$\n",
        "L = \\frac{1}{20}\\sum_{i=1}^{10} |W\\boldsymbol{x}^{(i)} -y^{(i)} |^2\n",
        "$$"
      ]
    },
    {
      "cell_type": "code",
      "metadata": {
        "colab": {
          "base_uri": "https://localhost:8080/"
        },
        "id": "w01iT-Jb4kbi",
        "outputId": "4055e51a-d542-4ba3-f4f2-597736c8f340"
      },
      "source": [
        "torch.manual_seed(42)\n",
        "n_samples = len(data_new)\n",
        "\n",
        "# X[i] is a row vector representing a sample\n",
        "X = torch.tensor(data_new.view(-1, 28*28), requires_grad=False) \n",
        "\n",
        "# y[i] is a made-up label for i-th sample\n",
        "y = torch.randn((n_samples, 1), requires_grad=False)\n",
        "\n",
        "# W is the weight matrix transposed \n",
        "W = torch.randn((28*28, 1), requires_grad=True)\n",
        "L = 0.5*(X.mm(W) - y).square().mean()##10 784 **  784 1 - y\n",
        "\n",
        "# backprop\n",
        "L.backward()\n",
        "\n",
        "# gradient\n",
        "with torch.no_grad():\n",
        "    gradW = W.grad"
      ],
      "execution_count": null,
      "outputs": [
        {
          "output_type": "stream",
          "text": [
            "/usr/local/lib/python3.6/dist-packages/ipykernel_launcher.py:5: UserWarning: To copy construct from a tensor, it is recommended to use sourceTensor.clone().detach() or sourceTensor.clone().detach().requires_grad_(True), rather than torch.tensor(sourceTensor).\n",
            "  \"\"\"\n"
          ],
          "name": "stderr"
        }
      ]
    },
    {
      "cell_type": "code",
      "metadata": {
        "tags": [],
        "colab": {
          "base_uri": "https://localhost:8080/"
        },
        "id": "va87z1MQ4kbj",
        "outputId": "05a7b943-94e9-484e-f3e8-d394d55ceed5"
      },
      "source": [
        "print(W.size(), gradW.size()) # gradW has sample shape with W"
      ],
      "execution_count": null,
      "outputs": [
        {
          "output_type": "stream",
          "text": [
            "torch.Size([784, 1]) torch.Size([784, 1])\n"
          ],
          "name": "stdout"
        }
      ]
    },
    {
      "cell_type": "markdown",
      "metadata": {
        "id": "lpZTDAZJ4kbj"
      },
      "source": [
        "## Problem 4\n",
        "\n",
        "Fill in the following cell an implementation of the backpropagation to compute\n",
        "$$ \n",
        "\\frac{\\partial L}{ \\partial (W^T)} = \\frac{1}{10} \\sum_{i=1}^{10} \n",
        "(W\\boldsymbol{x}^{(i)} -y^{(i)}) * \\boldsymbol{x}^{(i)}\n",
        "$$ \n",
        "using explicitly the matrix-vector multiplication `mm` and elementwise multiplication `*`. Then verify that the explicitly computed backpropagation gradient coincides with the `gradW` above.\n",
        "\n",
        "Caveat: we may want to pay attention to the sizes of the vector being either `(28*28, )` or `(28*28, 1)`."
      ]
    },
    {
      "cell_type": "code",
      "metadata": {
        "colab": {
          "base_uri": "https://localhost:8080/"
        },
        "id": "pNhlEZHRI_V8",
        "outputId": "c4cd583f-28c0-4e77-ad27-002033755639"
      },
      "source": [
        "gradW1 = ((X.mm(W)-y)*X)\r\n",
        "gradW1= torch.mean(gradW1,0,True)\r\n",
        "gradW1.shape#10*1"
      ],
      "execution_count": null,
      "outputs": [
        {
          "output_type": "execute_result",
          "data": {
            "text/plain": [
              "torch.Size([1, 784])"
            ]
          },
          "metadata": {
            "tags": []
          },
          "execution_count": 148
        }
      ]
    },
    {
      "cell_type": "code",
      "metadata": {
        "colab": {
          "base_uri": "https://localhost:8080/"
        },
        "id": "YAag65RS4kbj",
        "outputId": "c94d6adf-0c12-4c80-c31d-6099a7fa3b93"
      },
      "source": [
        "with torch.no_grad():\n",
        "    gradW1 = ((X.mm(W)-y)*X)\n",
        "    gradW1= torch.mean(gradW1,0,True)  \n",
        "    gradW1 = gradW1.view(-1,1)\n",
        "\n",
        "print(torch.norm(gradW1-gradW)) # this should be less than 1e-5 (single-precision error margin)"
      ],
      "execution_count": null,
      "outputs": [
        {
          "output_type": "stream",
          "text": [
            "tensor(5.9098e-07)\n"
          ],
          "name": "stdout"
        }
      ]
    },
    {
      "cell_type": "code",
      "metadata": {
        "id": "7Y4lHzjm4kbj"
      },
      "source": [
        "# extra cell"
      ],
      "execution_count": null,
      "outputs": []
    }
  ]
}